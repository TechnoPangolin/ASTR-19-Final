{
 "cells": [
  {
   "cell_type": "code",
   "execution_count": null,
   "id": "d5d4bd23",
   "metadata": {},
   "outputs": [],
   "source": [
    "#required imports\n",
    "import numpy as np, matplotlib.pyplot as plt\n",
    "import sep, astropy.io.fits as fits\n",
    "from matplotlib import rcParams\n",
    "from matplotlib.patches import Ellipse\n",
    "\n",
    "%matplotlib inline"
   ]
  },
  {
   "cell_type": "code",
   "execution_count": null,
   "id": "0878b19c",
   "metadata": {},
   "outputs": [],
   "source": [
    "#import fits formatted data to array\n",
    "f105data = fits.getdata(\"./data/hlsp_hudf12_hst_wfc3ir_udfmain_f105w_v1.0_drz.fits\")\n",
    "f105data = f105data.byteswap().newbyteorder()\n",
    "\n",
    "#data analysis\n",
    "f105mean, f105std = np.mean(f105data), np.std(f105data)\n",
    "\n",
    "#background removal processing\n",
    "#I'll come back to find out more about the parameters in use here\n",
    "f105bkg = sep.Background(f105data, bw=64, bh=64, fw=3, fh=3)\n",
    "f105bkg_image = f105bkg.back()\n",
    "f105bkg_rms = f105bkg.rms()\n",
    "f105data_sub = f105data - f105bkg\n",
    "\n",
    "#get the objects\n",
    "f105objects = sep.extract(f105data_sub, 1.5, err=f105bkg.globalrms)"
   ]
  },
  {
   "cell_type": "code",
   "execution_count": null,
   "id": "43c0b571",
   "metadata": {},
   "outputs": [],
   "source": [
    "#plot f105 background-subtracted image\n",
    "f, ax = plt.subplots()\n",
    "f105sub_mean, f105sub_std = np.mean(f105data_sub), np.std(f105data_sub)\n",
    "im = ax.imshow(f105data_sub, interpolation = 'nearest', cmap = 'gray',\n",
    "               vmin = f105sub_mean - f105sub_std, vmax = f105sub_mean + f105sub_std, origin='lower')\n",
    "\n",
    "#save a clean copy\n",
    "f.set_facecolor(\"white\")\n",
    "f.savefig(\"./output/f105 clean.png\", bbox_inches = \"tight\", dpi = 300)\n",
    "\n",
    "#plot an ellipse for each object\n",
    "for i in range(len(f105objects)):\n",
    "    f105e = Ellipse(xy = (f105objects['x'][i], f105objects['y'][i]),\n",
    "                width = 6 * f105objects['a'][i],\n",
    "                height = 6 * f105objects['b'][i],\n",
    "                angle = f105objects['theta'][i] * 180. / np.pi)\n",
    "    f105e.set_facecolor('none')\n",
    "    f105e.set_edgecolor('red')\n",
    "    ax.add_artist(f105e)\n",
    "    \n",
    "f.savefig(\"./output/f105 identification.png\", bbox_inches = \"tight\", dpi = 300)"
   ]
  },
  {
   "cell_type": "code",
   "execution_count": null,
   "id": "58af6be3",
   "metadata": {},
   "outputs": [],
   "source": [
    "#calculate the fluxes\n",
    "f105flux, f105fluxerr, f105flag = sep.sum_circle(f105data_sub, f105objects['x'], f105objects['y'],\n",
    "                                     3.0, err = f105bkg.globalrms, gain = 1.0)\n",
    "\n",
    "#plot on a histogram\n",
    "f, ax = plt.subplots()\n",
    "ax.hist(f105flux, 50)\n",
    "ax.set_xlabel(\"Flux\")\n",
    "ax.set_ylabel(\"Occurrences\")\n",
    "\n",
    "#save histogram of raw data\n",
    "f.set_facecolor(\"white\")\n",
    "f.savefig(\"./output/f105 raw flux histogram.png\", bbox_inches = \"tight\", dpi = 300)"
   ]
  },
  {
   "cell_type": "code",
   "execution_count": null,
   "id": "46ca9b7b",
   "metadata": {},
   "outputs": [],
   "source": [
    "#init a temp array to hold edges\n",
    "hold  = []\n",
    "#find literal edge cases\n",
    "for i in range(len(f105flux)):\n",
    "    if f105flux[i] < 3:\n",
    "        hold.append(f105flux[i])\n",
    "\n",
    "#remove edge cases\n",
    "edges = np.array(hold)\n",
    "f105fluxclean = np.setdiff1d(f105flux, edges)\n",
    "\n",
    "#print the number of remaining sources\n",
    "print(f\"The cleaned number of sources is: {len(f105fluxclean)}\")"
   ]
  },
  {
   "cell_type": "code",
   "execution_count": null,
   "id": "e75428f7",
   "metadata": {},
   "outputs": [],
   "source": [
    "#replot with attempt at removing IDs of noise on the edge\n",
    "#the point is to be able to see the values not in the first box\n",
    "#using a log scale for the y-axis would be better, but I'm not sure how to at the moment.\n",
    "f, ax = plt.subplots()\n",
    "ax.hist(f105fluxclean, 50)\n",
    "ax.set_xlabel(\"Flux\")\n",
    "ax.set_ylabel(\"Occurrences\")\n",
    "\n",
    "#save histogram of cleaned data\n",
    "f.set_facecolor(\"white\")\n",
    "f.savefig(\"./output/f105 clean flux histogram.png\", bbox_inches = \"tight\", dpi = 300)"
   ]
  },
  {
   "cell_type": "code",
   "execution_count": null,
   "id": "322b67e1",
   "metadata": {},
   "outputs": [],
   "source": [
    "#calculate stats\n",
    "f105mean = np.mean(f105flux)\n",
    "f105median = np.median(f105flux)\n",
    "f105std = np.std(f105flux)\n",
    "\n",
    "print(f\"The mean is: {f105mean:.2f}\")\n",
    "print(f\"The median is: {f105median:.2f}\")\n",
    "print(f\"The std is: {f105std:.2f}\")\n",
    "\n",
    "f105fluxmax = f105flux.max()\n",
    "\n",
    "print(f\"The largest outlier is {f105fluxmax:.2f}.\")\n",
    "\n",
    "temp = 0\n",
    "f105fluxmaxloc = np.argmax(f105flux)\n",
    "        \n",
    "f105fluxmaxobj = f105objects[f105fluxmaxloc]\n",
    "\n",
    "print(f\"It is located from {f105fluxmaxobj[3]} to {f105fluxmaxobj[4]} on the x axis and {f105fluxmaxobj[5]} to {f105fluxmaxobj[6]} on the y axis.\")\n",
    "\n",
    "f105fluxmaxsigma = (f105fluxmax - f105mean) / f105std\n",
    "\n",
    "print(f\"It was a(n) {f105fluxmaxsigma:.2f}-sigma event.\")"
   ]
  },
  {
   "cell_type": "code",
   "execution_count": null,
   "id": "56815029",
   "metadata": {},
   "outputs": [],
   "source": [
    "#import fits formatted data to array\n",
    "f125data = fits.getdata(\"./data/hlsp_hudf12_hst_wfc3ir_udfmain_f125w_v1.0_drz.fits\")\n",
    "f125data = f125data.byteswap().newbyteorder()\n",
    "f160data = fits.getdata(\"./data/hlsp_hudf12_hst_wfc3ir_udfmain_f160w_v1.0_drz.fits\")\n",
    "f160data = f160data.byteswap().newbyteorder()"
   ]
  },
  {
   "cell_type": "code",
   "execution_count": null,
   "id": "6024d019",
   "metadata": {},
   "outputs": [],
   "source": [
    "#background removal of f125\n",
    "f125mean, f125std = np.mean(f125data), np.std(f125data)\n",
    "\n",
    "#background removal processing\n",
    "f125bkg = sep.Background(f125data, bw=64, bh=64, fw=3, fh=3)\n",
    "f125bkg_image = f125bkg.back()\n",
    "f125bkg_rms = f125bkg.rms()\n",
    "f125data_sub = f125data - f125bkg\n",
    "\n",
    "#background removal of f160\n",
    "f160mean, f160std = np.mean(f160data), np.std(f160data)\n",
    "\n",
    "#background removal processing\n",
    "#I'll come back to find out more about the parameters in use here\n",
    "f160bkg = sep.Background(f160data, bw=64, bh=64, fw=3, fh=3)\n",
    "f160bkg_image = f160bkg.back()\n",
    "f160bkg_rms = f160bkg.rms()\n",
    "f160data_sub = f160data - f160bkg"
   ]
  },
  {
   "cell_type": "code",
   "execution_count": null,
   "id": "f4091482",
   "metadata": {},
   "outputs": [],
   "source": [
    "'''\n",
    "the plan is: determine the structure of each f***data_sub\n",
    "if necessary, sum to a single dimension\n",
    "append them to an array of the form: \"(M, N, 3): an image with RGB values (0-1 float or 0-255 int).\"\n",
    "where M is the x-value, and each of the 3 Ns correspond to R, G, B\n",
    "then pass result to .imshow\n",
    "'''"
   ]
  },
  {
   "cell_type": "code",
   "execution_count": null,
   "id": "6aa785f6",
   "metadata": {},
   "outputs": [],
   "source": [
    "#plot the image on the different channels\n",
    "f, ax = plt.subplots()\n",
    "\n",
    "#f160 on red channel\n",
    "f160sub_mean, f160sub_std = np.mean(f160data_sub), np.std(f160data_sub)\n",
    "\n",
    "im = ax.imshow(f160data_sub, interpolation = 'nearest', cmap = 'Reds',\n",
    "               vmin = f160sub_mean - f160sub_std, vmax = f160sub_mean + f160sub_std, origin='lower')\n",
    "\n",
    "#f125 on green channel\n",
    "f125sub_mean, f125sub_std = np.mean(f125data_sub), np.std(f125data_sub)\n",
    "\n",
    "im = ax.imshow(f125data_sub, interpolation = 'nearest', cmap = 'Greens',\n",
    "               vmin = f125sub_mean - f125sub_std, vmax = f125sub_mean + f125sub_std, origin='lower')\n",
    "\n",
    "#f105 on blue channel\n",
    "f105sub_mean, f105sub_std = np.mean(f105data_sub), np.std(f105data_sub)\n",
    "\n",
    "im = ax.imshow(f105data_sub, interpolation = 'nearest', cmap = 'Blues',\n",
    "               vmin = f105sub_mean - f105sub_std, vmax = f105sub_mean + f105sub_std, origin='lower')\n",
    "\n",
    "#save image with false color\n",
    "f.set_facecolor(\"white\")\n",
    "f.savefig(\"./output/composite false color.png\", bbox_inches = \"tight\", dpi = 300)"
   ]
  }
 ],
 "metadata": {
  "kernelspec": {
   "display_name": "Python 3 (ipykernel)",
   "language": "python",
   "name": "python3"
  },
  "language_info": {
   "codemirror_mode": {
    "name": "ipython",
    "version": 3
   },
   "file_extension": ".py",
   "mimetype": "text/x-python",
   "name": "python",
   "nbconvert_exporter": "python",
   "pygments_lexer": "ipython3",
   "version": "3.10.4"
  }
 },
 "nbformat": 4,
 "nbformat_minor": 5
}
