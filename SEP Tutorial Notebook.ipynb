{
 "cells": [
  {
   "cell_type": "markdown",
   "id": "7e6ca54f",
   "metadata": {},
   "source": [
    "# Tutorial completion Notebook"
   ]
  },
  {
   "cell_type": "code",
   "execution_count": null,
   "id": "62bc8c28",
   "metadata": {},
   "outputs": [],
   "source": [
    "#required imports\n",
    "import numpy as np, matplotlib.pyplot as plt\n",
    "import sep, astropy.io.fits as fits"
   ]
  }
 ],
 "metadata": {
  "kernelspec": {
   "display_name": "Python 3 (ipykernel)",
   "language": "python",
   "name": "python3"
  },
  "language_info": {
   "codemirror_mode": {
    "name": "ipython",
    "version": 3
   },
   "file_extension": ".py",
   "mimetype": "text/x-python",
   "name": "python",
   "nbconvert_exporter": "python",
   "pygments_lexer": "ipython3",
   "version": "3.10.4"
  }
 },
 "nbformat": 4,
 "nbformat_minor": 5
}
