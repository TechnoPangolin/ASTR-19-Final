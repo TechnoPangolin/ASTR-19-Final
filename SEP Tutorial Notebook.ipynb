{
 "cells": [
  {
   "cell_type": "markdown",
   "id": "7e6ca54f",
   "metadata": {},
   "source": [
    "# Tutorial completion Notebook"
   ]
  },
  {
   "cell_type": "code",
   "execution_count": null,
   "id": "62bc8c28",
   "metadata": {},
   "outputs": [],
   "source": [
    "#required imports\n",
    "import numpy as np, matplotlib.pyplot as plt\n",
    "import sep, astropy.io.fits as fits\n",
    "from matplotlib import rcParams\n",
    "\n",
    "%matplotlib inline"
   ]
  },
  {
   "cell_type": "code",
   "execution_count": null,
   "id": "9c173f12",
   "metadata": {},
   "outputs": [],
   "source": [
    "#import fits formatted data to array\n",
    "rawData = fits.open(\"./galaxies.fits\")\n",
    "data = fits.getdata(\"./galaxies.fits\")\n",
    "\n",
    "#display image with matplotlib\n",
    "mean, std = np.mean(data), np.std(data)\n",
    "plt.imshow(data, interpolation='nearest', cmap='gray', vmin=mean-std, vmax=mean+std, origin='lower')\n",
    "plt.colorbar();"
   ]
  },
  {
   "cell_type": "code",
   "execution_count": null,
   "id": "d4792680",
   "metadata": {},
   "outputs": [],
   "source": [
    "#background removal processing\n",
    "#I'll come back to find out about the parameters in use here\n",
    "bkg = sep.Background(data, bw=64, bh=64, fw=3, fh=3)\n",
    "\n",
    "# get a \"global\" mean and noise of the image background:\n",
    "print(bkg.globalback)\n",
    "print(bkg.globalrms)\n",
    "\n",
    "# evaluate background as 2-d array, same size as original image\n",
    "bkg_image = bkg.back()\n",
    "\n",
    "# show the background\n",
    "plt.imshow(bkg_image, interpolation='nearest', cmap='gray', origin='lower')\n",
    "plt.colorbar();"
   ]
  },
  {
   "cell_type": "code",
   "execution_count": null,
   "id": "98eb6bb7",
   "metadata": {},
   "outputs": [],
   "source": [
    "#background removal cont'd\n",
    "# evaluate the background noise as 2-d array, same size as original image\n",
    "bkg_rms = bkg.rms()\n",
    "\n",
    "# show the background noise\n",
    "plt.imshow(bkg_rms, interpolation='nearest', cmap='gray', origin='lower')\n",
    "plt.colorbar();\n",
    "\n",
    "\n",
    "# subtract the background\n",
    "data_sub = data - bkg"
   ]
  },
  {
   "cell_type": "code",
   "execution_count": null,
   "id": "6a169159",
   "metadata": {},
   "outputs": [],
   "source": [
    "#get the objects\n",
    "objects = sep.extract(data_sub, 1.5, err=bkg.globalrms)\n",
    "\n",
    "# how many objects were detected\n",
    "#print(len(objects))\n",
    "\n",
    "from matplotlib.patches import Ellipse\n",
    "\n",
    "#plot background-subtracted image\n",
    "fig, ax = plt.subplots()\n",
    "m, s = np.mean(data_sub), np.std(data_sub)\n",
    "im = ax.imshow(data_sub, interpolation='nearest', cmap='gray',\n",
    "               vmin=m-s, vmax=m+s, origin='lower')\n",
    "\n",
    "#plot an ellipse for each object\n",
    "for i in range(len(objects)):\n",
    "    e = Ellipse(xy=(objects['x'][i], objects['y'][i]),\n",
    "                width=6*objects['a'][i],\n",
    "                height=6*objects['b'][i],\n",
    "                angle=objects['theta'][i] * 180. / np.pi)\n",
    "    e.set_facecolor('none')\n",
    "    e.set_edgecolor('red')\n",
    "    ax.add_artist(e)\n",
    "    \n",
    "fig.set_facecolor(\"white\")\n",
    "fig.savefig(\"test identification.png\", bbox_inches = \"tight\", dpi = 300)"
   ]
  },
  {
   "cell_type": "code",
   "execution_count": null,
   "id": "c99c17b4",
   "metadata": {},
   "outputs": [],
   "source": [
    "#aperture photmetry\n",
    "flux, fluxerr, flag = sep.sum_circle(data_sub, objects['x'], objects['y'],\n",
    "                                     3.0, err=bkg.globalrms, gain=1.0)\n",
    "# show the first 10 objects results:\n",
    "for i in range(10):\n",
    "    print(\"object {:d}: flux = {:f} +/- {:f}\".format(i, flux[i], fluxerr[i]))"
   ]
  }
 ],
 "metadata": {
  "kernelspec": {
   "display_name": "Python 3 (ipykernel)",
   "language": "python",
   "name": "python3"
  },
  "language_info": {
   "codemirror_mode": {
    "name": "ipython",
    "version": 3
   },
   "file_extension": ".py",
   "mimetype": "text/x-python",
   "name": "python",
   "nbconvert_exporter": "python",
   "pygments_lexer": "ipython3",
   "version": "3.10.4"
  }
 },
 "nbformat": 4,
 "nbformat_minor": 5
}
